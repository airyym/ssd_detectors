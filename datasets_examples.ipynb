{
 "cells": [
  {
   "cell_type": "code",
   "execution_count": null,
   "metadata": {},
   "outputs": [],
   "source": [
    "import numpy as np\n",
    "import matplotlib.pyplot as plt\n",
    "import os\n",
    "import pickle"
   ]
  },
  {
   "cell_type": "code",
   "execution_count": null,
   "metadata": {},
   "outputs": [],
   "source": []
  },
  {
   "cell_type": "code",
   "execution_count": null,
   "metadata": {},
   "outputs": [],
   "source": [
    "from data_icdar2015ist import GTUtility\n",
    "gt_util = GTUtility('data/ICDAR2015_IST/')\n",
    "gt_util_test = GTUtility('data/ICDAR2015_IST/', test=True)"
   ]
  },
  {
   "cell_type": "code",
   "execution_count": null,
   "metadata": {},
   "outputs": [],
   "source": [
    "n = 3\n",
    "idxs = [674, 998, 921, 26, 892, 31]\n",
    "\n",
    "fig, axs = plt.subplots(2,n, figsize=(12, 4.54), facecolor='g', edgecolor='k')\n",
    "fig.subplots_adjust(left=0, right=1, top=1, bottom=0, hspace=.0, wspace=.01)\n",
    "axs = axs.ravel()\n",
    "\n",
    "for i in range(n*2):\n",
    "    idx, img, gt = gt_util.sample(idxs[i])\n",
    "    plt.axes(axs[i])\n",
    "    plt.imshow(img)\n",
    "    gt_util.plot_gt(gt, show_labels=False)\n",
    "    plt.axis('off')\n",
    "    #print(idx)\n",
    "    #print(gt_util.text[idx])\n",
    "    \n",
    "plt.savefig(\"dataset_icdar_ist.jpeg\", dpi=200, pil_kwargs={'quality': 95})\n",
    "plt.show()"
   ]
  },
  {
   "cell_type": "code",
   "execution_count": null,
   "metadata": {},
   "outputs": [],
   "source": []
  },
  {
   "cell_type": "code",
   "execution_count": null,
   "metadata": {},
   "outputs": [],
   "source": [
    "from data_icdar2015fst import GTUtility\n",
    "gt_util = GTUtility('data/ICDAR2015_FST/')\n",
    "gt_util_test = GTUtility('data/ICDAR2015_FST/', test=True, polygon=False)"
   ]
  },
  {
   "cell_type": "code",
   "execution_count": null,
   "metadata": {},
   "outputs": [],
   "source": [
    "n = 3\n",
    "idxs = [208, 167, 101, 202, 58, 158]\n",
    "\n",
    "fig, axs = plt.subplots(2,n, figsize=(12, 6.08), facecolor='g', edgecolor='k')\n",
    "fig.subplots_adjust(left=0, right=1, top=1, bottom=0, hspace=.0, wspace=.01)\n",
    "axs = axs.ravel()\n",
    "\n",
    "for i in range(n*2):\n",
    "    idx, img, gt = gt_util.sample(idxs[i])\n",
    "    plt.axes(axs[i])\n",
    "    plt.imshow(img)\n",
    "    gt_util.plot_gt(gt, show_labels=False)\n",
    "    plt.axis('off')\n",
    "    #print(idx)\n",
    "    #print(gt_util.text[idx])\n",
    "    \n",
    "plt.savefig(\"dataset_icdar_fst.jpeg\", dpi=200, pil_kwargs={'quality': 95})\n",
    "plt.show()"
   ]
  },
  {
   "cell_type": "code",
   "execution_count": null,
   "metadata": {},
   "outputs": [],
   "source": []
  },
  {
   "cell_type": "code",
   "execution_count": null,
   "metadata": {},
   "outputs": [],
   "source": [
    "from data_cocotext import GTUtility\n",
    "gt_util = GTUtility('data/COCO-Text', polygon=False)"
   ]
  },
  {
   "cell_type": "code",
   "execution_count": null,
   "metadata": {},
   "outputs": [],
   "source": [
    "# TODO: COCO-Text changes order when json is loaded\n",
    "\n",
    "n = 3\n",
    "idxs = [7816, 1545, 12112, 925, 4821, 2186]\n",
    "\n",
    "fig, axs = plt.subplots(2,n, figsize=(12, 6.08), facecolor='g', edgecolor='k')\n",
    "fig.subplots_adjust(left=0, right=1, top=1, bottom=0, hspace=.0, wspace=.01)\n",
    "axs = axs.ravel()\n",
    "\n",
    "for i in range(n*2):\n",
    "    idx, img, gt = gt_util.sample(idxs[i])\n",
    "    plt.axes(axs[i])\n",
    "    plt.imshow(img)\n",
    "    gt_util.plot_gt(gt, show_labels=False)\n",
    "    plt.axis('off')\n",
    "    #print(idx)\n",
    "    #print(gt_util.text[idx])\n",
    "    \n",
    "plt.savefig(\"dataset_cocotext.jpeg\", dpi=200, pil_kwargs={'quality': 95})\n",
    "plt.show()"
   ]
  },
  {
   "cell_type": "code",
   "execution_count": null,
   "metadata": {},
   "outputs": [],
   "source": []
  },
  {
   "cell_type": "code",
   "execution_count": null,
   "metadata": {},
   "outputs": [],
   "source": [
    "from data_synthtext import GTUtility\n",
    "#gt_util = GTUtility('data/SynthText/', polygon=True)\n",
    "\n",
    "file_name = 'gt_util_synthtext_seglink.pkl'\n",
    "#pickle.dump(gt_util, open(file_name,'wb'))\n",
    "with open(file_name, 'rb') as f:\n",
    "    gt_util = pickle.load(f)"
   ]
  },
  {
   "cell_type": "code",
   "execution_count": null,
   "metadata": {},
   "outputs": [],
   "source": [
    "n = 3\n",
    "idxs = [702464, 33074, 770460, 811889, 555885, 706285]\n",
    "\n",
    "fig, axs = plt.subplots(2,n, figsize=(12, 6.2), facecolor='g', edgecolor='k')\n",
    "fig.subplots_adjust(left=0, right=1, top=1, bottom=0, hspace=.0, wspace=.01)\n",
    "axs = axs.ravel()\n",
    "\n",
    "for i in range(n*2):\n",
    "    idx, img, gt = gt_util.sample(idxs[i])\n",
    "    plt.axes(axs[i])\n",
    "    plt.imshow(img)\n",
    "    gt_util.plot_gt(gt, show_labels=False)\n",
    "    plt.axis('off')\n",
    "    #print(idx)\n",
    "    #print(gt_util.text[idx])\n",
    "    \n",
    "plt.savefig(\"dataset_synthtext.jpeg\", dpi=200, pil_kwargs={'quality': 95})\n",
    "plt.show()"
   ]
  },
  {
   "cell_type": "code",
   "execution_count": null,
   "metadata": {},
   "outputs": [],
   "source": []
  }
 ],
 "metadata": {
  "kernelspec": {
   "display_name": "Python 3",
   "language": "python",
   "name": "python3"
  },
  "language_info": {
   "codemirror_mode": {
    "name": "ipython",
    "version": 3
   },
   "file_extension": ".py",
   "mimetype": "text/x-python",
   "name": "python",
   "nbconvert_exporter": "python",
   "pygments_lexer": "ipython3",
   "version": "3.7.5"
  },
  "toc": {
   "base_numbering": 1,
   "nav_menu": {},
   "number_sections": true,
   "sideBar": true,
   "skip_h1_title": false,
   "title_cell": "Table of Contents",
   "title_sidebar": "Contents",
   "toc_cell": false,
   "toc_position": {},
   "toc_section_display": true,
   "toc_window_display": false
  }
 },
 "nbformat": 4,
 "nbformat_minor": 2
}
